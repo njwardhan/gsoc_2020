{
 "cells": [
  {
   "cell_type": "code",
   "execution_count": 2,
   "metadata": {},
   "outputs": [
    {
     "data": {
      "image/png": "[encoded data removed]",
      "text/plain": [
       "<Figure size 432x288 with 1 Axes>"
      ]
     },
     "metadata": {},
     "output_type": "display_data"
    },
    {
     "data": {
      "image/png": "[encoded data removed]",
      "text/plain": [
       "<Figure size 432x288 with 1 Axes>"
      ]
     },
     "metadata": {},
     "output_type": "display_data"
    },
    {
     "data": {
      "image/png": "[encoded data removed]",
      "text/plain": [
       "<Figure size 432x288 with 1 Axes>"
      ]
     },
     "metadata": {},
     "output_type": "display_data"
    },
    {
     "name": "stdout",
     "output_type": "stream",
     "text": [
      "[ 0.18  0.18  0.18]\n",
      "[ 0.45292207  0.45292207  0.45292207]\n",
      "[0.17999999999999999, 0.17999999999999999, 0.17999999999999999]\n"
     ]
    }
   ],
   "source": [
    "import colour, numpy as np\n",
    "from colour.utilities import tsplit, tstack\n",
    "from colour.constants import DEFAULT_INT_DTYPE\n",
    "from colour.algebra import spow\n",
    "\n",
    "RGB = np.array([0.18, 0.18, 0.18])\n",
    "colour.plotting.plot_multi_colour_swatches(RGB)\n",
    "\n",
    "LUT = colour.LUT3x1D(colour.LUT3x1D.linear_table() ** (1 / 2.2))\n",
    "RGB_a = LUT.apply(RGB)\n",
    "colour.plotting.plot_multi_colour_swatches(RGB_a)\n",
    "\n",
    "LUT_i = colour.LUT3x1D()\n",
    "\n",
    "R, G, B = tsplit(RGB_a)\n",
    "\n",
    "domain_min, domain_max = LUT_i.domain\n",
    "size = DEFAULT_INT_DTYPE(LUT_i.size / 3)\n",
    "samples = [np.linspace(domain_min[i], domain_max[i],LUT_i.size)\n",
    "                for i in range(3)\n",
    "            ]\n",
    "\n",
    "R_t, G_t, B_t = tsplit(LUT.table)\n",
    "\n",
    "s_R, s_G, s_B = samples\n",
    "\n",
    "RGB_i = [\n",
    "            colour.LinearInterpolator(a[0], a[1])(a[2])\n",
    "            for a in zip((R_t, G_t, B_t), (s_R, s_G, s_B), (R, G, B))\n",
    "        ]\n",
    "        \n",
    "colour.plotting.plot_multi_colour_swatches(tstack(RGB_i))\n",
    "\n",
    "print(RGB)\n",
    "print(RGB_a)\n",
    "print(RGB_i)"
   ]
  },
  {
   "cell_type": "code",
   "execution_count": null,
   "metadata": {},
   "outputs": [],
   "source": []
  }
 ],
 "metadata": {
  "kernelspec": {
   "display_name": "Python 3",
   "language": "python",
   "name": "python3"
  },
  "language_info": {
   "codemirror_mode": {
    "name": "ipython",
    "version": 3
   },
   "file_extension": ".py",
   "mimetype": "text/x-python",
   "name": "python",
   "nbconvert_exporter": "python",
   "pygments_lexer": "ipython3",
   "version": "3.8.2"
  }
 },
 "nbformat": 4,
 "nbformat_minor": 4
}
