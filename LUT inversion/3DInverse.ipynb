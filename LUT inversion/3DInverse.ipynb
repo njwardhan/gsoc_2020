{
 "cells": [
  {
   "cell_type": "code",
   "execution_count": 1,
   "metadata": {},
   "outputs": [
    {
     "name": "stdout",
     "output_type": "stream",
     "text": [
      "[0.18, 0.18, 0.18]\n",
      "[ 0.46099294  0.46099294  0.46099294]\n",
      "[ 0.46067688  0.46067688  0.46067688]\n"
     ]
    }
   ],
   "source": [
    "import numpy as np, colour\n",
    "from scipy.spatial import KDTree\n",
    "\n",
    "LUT = colour.LUT3D()\n",
    "LUT.table = colour.cctf_encoding(LUT.table)\n",
    "RGB = [0.18, 0.18, 0.18]\n",
    "RGB_a = LUT.apply(RGB)\n",
    "\n",
    "points = []\n",
    "\n",
    "## Create a list of all the values of the initial 3D LUT.\n",
    "for x in range(LUT.size):\n",
    "\tfor y in range(LUT.size):\n",
    "\t\tfor z in range(LUT.size):\n",
    "\t\t\tpoints.append(((LUT.table[x])[y])[z])\n",
    "\n",
    "## Build a KD-Tree using that list of values.\n",
    "tree = KDTree(points)\n",
    "\n",
    "LUT_i = colour.LUT3D(size=LUT.size)\n",
    "\n",
    "## Query the tree for nearest neighbour at the values of a default 3D LUT. \n",
    "for x in range(LUT.size):\n",
    "\tfor y in range(LUT.size):\n",
    "\t\tfor z in range(LUT.size):\n",
    "\t\t\tNN = tree.query(((LUT_i.table[x])[y])[z])\n",
    "\t\t\t((LUT_i.table[x])[y])[z] = points[NN[1]]\n",
    "\n",
    "RGB_i = LUT_i.apply(RGB_a)\n",
    "\n",
    "print(RGB)\n",
    "print(RGB_a)\n",
    "print(RGB_i)"
   ]
  },
  {
   "cell_type": "code",
   "execution_count": null,
   "metadata": {},
   "outputs": [],
   "source": []
  }
 ],
 "metadata": {
  "kernelspec": {
   "display_name": "Python 3.8.2 64-bit",
   "language": "python",
   "name": "python38264bitc70267c803f04c72bde94a67cfdf1fe4"
  },
  "language_info": {
   "codemirror_mode": {
    "name": "ipython",
    "version": 3
   },
   "file_extension": ".py",
   "mimetype": "text/x-python",
   "name": "python",
   "nbconvert_exporter": "python",
   "pygments_lexer": "ipython3",
   "version": "3.8.2"
  }
 },
 "nbformat": 4,
 "nbformat_minor": 4
}
